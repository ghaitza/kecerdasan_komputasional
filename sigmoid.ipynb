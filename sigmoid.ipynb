{
  "nbformat": 4,
  "nbformat_minor": 0,
  "metadata": {
    "colab": {
      "provenance": [],
      "authorship_tag": "ABX9TyMFDHrqR26ctbiH56MnZeBe",
      "include_colab_link": true
    },
    "kernelspec": {
      "name": "python3",
      "display_name": "Python 3"
    },
    "language_info": {
      "name": "python"
    }
  },
  "cells": [
    {
      "cell_type": "markdown",
      "metadata": {
        "id": "view-in-github",
        "colab_type": "text"
      },
      "source": [
        "<a href=\"https://colab.research.google.com/github/ghaitza/kecerdasan_komputasional/blob/main/sigmoid.ipynb\" target=\"_parent\"><img src=\"https://colab.research.google.com/assets/colab-badge.svg\" alt=\"Open In Colab\"/></a>"
      ]
    },
    {
      "cell_type": "code",
      "execution_count": 2,
      "metadata": {
        "id": "BgxpkkzlsQYg"
      },
      "outputs": [],
      "source": [
        "# Developing the Sigmoid Function in numpy\n",
        "import numpy as np\n",
        "\n",
        "def sigmoid(x):\n",
        "    return 1.0 / (1.0 + np.exp(-x))"
      ]
    },
    {
      "cell_type": "code",
      "source": [
        "# Testing Out Our Sigmoid Function\n",
        "import numpy as np\n",
        "\n",
        "def sigmoid(x):\n",
        "    return 1.0 / (1.0 + np.exp(-x))\n",
        "print(sigmoid(0.5))\n",
        "\n",
        "# Returns: 0.6224593312018546"
      ],
      "metadata": {
        "colab": {
          "base_uri": "https://localhost:8080/"
        },
        "id": "GhoaZypIsUWe",
        "outputId": "28eae7ff-b03e-4767-f745-053a34ae2f0d"
      },
      "execution_count": 3,
      "outputs": [
        {
          "output_type": "stream",
          "name": "stdout",
          "text": [
            "0.6224593312018546\n"
          ]
        }
      ]
    },
    {
      "cell_type": "code",
      "source": [
        "# Developing the Sigmoid Function in numpy as a Lambda Function\n",
        "import numpy\n",
        "sigmoid = lambda x: 1.0 / (1.0 + numpy.exp(-x))"
      ],
      "metadata": {
        "id": "6jKh1lo7up7B"
      },
      "execution_count": 4,
      "outputs": []
    },
    {
      "cell_type": "code",
      "source": [
        "# Using scipy to Implement the Sigmoid Function\n",
        "from scipy.special import expit\n",
        "print(expit(0.5))\n",
        "\n",
        "# Returns: 0.6224593312018546"
      ],
      "metadata": {
        "colab": {
          "base_uri": "https://localhost:8080/"
        },
        "id": "YXQmyio3u20M",
        "outputId": "570918a1-11c1-4079-90bd-567d497cbd52"
      },
      "execution_count": 5,
      "outputs": [
        {
          "output_type": "stream",
          "name": "stdout",
          "text": [
            "0.6224593312018546\n"
          ]
        }
      ]
    },
    {
      "cell_type": "code",
      "source": [
        "# Applying the Sigmoid Function to numpy Arrays\n",
        "import numpy as np\n",
        "\n",
        "def sigmoid(x):\n",
        "    return 1.0 / (1.0 + np.exp(-x))\n",
        "\n",
        "arr = np.array([-2, -1.5, -1, 0, 1, 1.5, 2])\n",
        "\n",
        "print(sigmoid(arr))\n",
        "\n",
        "# Returns: [0.11920292 0.18242552 0.26894142 0.5 0.73105858 0.81757448 0.88079708]"
      ],
      "metadata": {
        "colab": {
          "base_uri": "https://localhost:8080/"
        },
        "id": "73y3ZCixu7MB",
        "outputId": "a81d1292-39be-4836-eab7-b976f93cad63"
      },
      "execution_count": 6,
      "outputs": [
        {
          "output_type": "stream",
          "name": "stdout",
          "text": [
            "[0.11920292 0.18242552 0.26894142 0.5        0.73105858 0.81757448\n",
            " 0.88079708]\n"
          ]
        }
      ]
    },
    {
      "cell_type": "code",
      "source": [
        "# Plotting the Sigmoid Function in Python with Matplotlib\n",
        "import numpy as np\n",
        "import matplotlib.pyplot as plt\n",
        "\n",
        "def sigmoid(x):\n",
        "    return 1.0 / (1.0 + np.exp(-x))\n",
        "\n",
        "values = np.arange(-10, 10, 0.1)\n",
        "\n",
        "plt.plot(values, sigmoid(values))\n",
        "print (x)\n",
        "plt.xlabel('x')\n",
        "plt.ylabel('sigmoid(x)')\n",
        "plt.title('Sigmoid Function in Matplotlib')\n",
        "plt.show()"
      ],
      "metadata": {
        "colab": {
          "base_uri": "https://localhost:8080/",
          "height": 819
        },
        "id": "L0gdG-lvvML4",
        "outputId": "b68122c5-cd90-4c86-de26-ff1a4911b2a5"
      },
      "execution_count": 9,
      "outputs": [
        {
          "output_type": "stream",
          "name": "stdout",
          "text": [
            "[-10.          -9.7979798   -9.5959596   -9.39393939  -9.19191919\n",
            "  -8.98989899  -8.78787879  -8.58585859  -8.38383838  -8.18181818\n",
            "  -7.97979798  -7.77777778  -7.57575758  -7.37373737  -7.17171717\n",
            "  -6.96969697  -6.76767677  -6.56565657  -6.36363636  -6.16161616\n",
            "  -5.95959596  -5.75757576  -5.55555556  -5.35353535  -5.15151515\n",
            "  -4.94949495  -4.74747475  -4.54545455  -4.34343434  -4.14141414\n",
            "  -3.93939394  -3.73737374  -3.53535354  -3.33333333  -3.13131313\n",
            "  -2.92929293  -2.72727273  -2.52525253  -2.32323232  -2.12121212\n",
            "  -1.91919192  -1.71717172  -1.51515152  -1.31313131  -1.11111111\n",
            "  -0.90909091  -0.70707071  -0.50505051  -0.3030303   -0.1010101\n",
            "   0.1010101    0.3030303    0.50505051   0.70707071   0.90909091\n",
            "   1.11111111   1.31313131   1.51515152   1.71717172   1.91919192\n",
            "   2.12121212   2.32323232   2.52525253   2.72727273   2.92929293\n",
            "   3.13131313   3.33333333   3.53535354   3.73737374   3.93939394\n",
            "   4.14141414   4.34343434   4.54545455   4.74747475   4.94949495\n",
            "   5.15151515   5.35353535   5.55555556   5.75757576   5.95959596\n",
            "   6.16161616   6.36363636   6.56565657   6.76767677   6.96969697\n",
            "   7.17171717   7.37373737   7.57575758   7.77777778   7.97979798\n",
            "   8.18181818   8.38383838   8.58585859   8.78787879   8.98989899\n",
            "   9.19191919   9.39393939   9.5959596    9.7979798   10.        ]\n"
          ]
        },
        {
          "output_type": "display_data",
          "data": {
            "text/plain": [
              "<Figure size 640x480 with 1 Axes>"
            ],
            "image/png": "[encoded data removed]"
          },
          "metadata": {}
        }
      ]
    },
    {
      "cell_type": "code",
      "source": [],
      "metadata": {
        "id": "pLRc6o-S2OIJ"
      },
      "execution_count": null,
      "outputs": []
    }
  ]
}