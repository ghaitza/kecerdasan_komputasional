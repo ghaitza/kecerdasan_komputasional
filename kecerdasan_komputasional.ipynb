{
  "nbformat": 4,
  "nbformat_minor": 0,
  "metadata": {
    "colab": {
      "provenance": [],
      "authorship_tag": "ABX9TyNfarO82ifzpqiysyMScJqH",
      "include_colab_link": true
    },
    "kernelspec": {
      "name": "python3",
      "display_name": "Python 3"
    },
    "language_info": {
      "name": "python"
    }
  },
  "cells": [
    {
      "cell_type": "markdown",
      "metadata": {
        "id": "view-in-github",
        "colab_type": "text"
      },
      "source": [
        "<a href=\"https://colab.research.google.com/github/ghaitza/kecerdasan_komputasional/blob/main/kecerdasan_komputasional.ipynb\" target=\"_parent\"><img src=\"https://colab.research.google.com/assets/colab-badge.svg\" alt=\"Open In Colab\"/></a>"
      ]
    },
    {
      "cell_type": "code",
      "execution_count": 15,
      "metadata": {
        "id": "f9xLEpJaoZDg"
      },
      "outputs": [],
      "source": [
        "import matplotlib as plt\n",
        "from sklearn.datasets import make_blobs\n",
        "from sklearn.cluster import KMeans\n",
        "from sklearn.metrics import silhouette_score\n",
        "from sklearn.preprocessing import StandardScaler"
      ]
    },
    {
      "cell_type": "code",
      "source": [
        "features, true_label = make_blobs(\n",
        "    n_samples=330,\n",
        "    centers=5,\n",
        "    cluster_std=3.30,\n",
        "    random_state=33\n",
        ")"
      ],
      "metadata": {
        "id": "d76iU0wMoeWS"
      },
      "execution_count": 16,
      "outputs": []
    },
    {
      "cell_type": "code",
      "source": [
        "features[:10]"
      ],
      "metadata": {
        "colab": {
          "base_uri": "https://localhost:8080/"
        },
        "id": "2U2wxDTTojXt",
        "outputId": "4cad34cc-4a7e-4489-829b-b39cf5b07826"
      },
      "execution_count": 17,
      "outputs": [
        {
          "output_type": "execute_result",
          "data": {
            "text/plain": [
              "array([[  3.77557138, -11.17691053],\n",
              "       [ 11.91442163,  -3.75250278],\n",
              "       [-11.78111355,   0.10324896],\n",
              "       [ -8.89878315,   6.34778575],\n",
              "       [-11.40417657,   9.28068524],\n",
              "       [  8.12888293,  -6.30444064],\n",
              "       [-13.80710739,   7.45198016],\n",
              "       [ -3.03517174,   2.10751023],\n",
              "       [  0.58888592,   0.6003493 ],\n",
              "       [ -9.36939395,  10.01181391]])"
            ]
          },
          "metadata": {},
          "execution_count": 17
        }
      ]
    },
    {
      "cell_type": "code",
      "source": [
        "true_label[:200]"
      ],
      "metadata": {
        "colab": {
          "base_uri": "https://localhost:8080/"
        },
        "id": "o2H7YFHIons5",
        "outputId": "ccd5951d-0618-41ec-de26-9a8e157e750e"
      },
      "execution_count": 18,
      "outputs": [
        {
          "output_type": "execute_result",
          "data": {
            "text/plain": [
              "array([1, 2, 0, 3, 3, 2, 3, 0, 4, 3, 0, 0, 4, 1, 1, 4, 3, 4, 2, 4, 2, 4,\n",
              "       3, 0, 0, 3, 3, 2, 4, 2, 4, 0, 0, 2, 3, 0, 0, 1, 0, 3, 2, 0, 3, 4,\n",
              "       1, 2, 0, 3, 1, 2, 0, 4, 3, 2, 4, 2, 0, 4, 1, 0, 1, 4, 2, 2, 0, 3,\n",
              "       3, 1, 3, 3, 3, 4, 3, 2, 1, 3, 1, 0, 0, 0, 0, 4, 1, 2, 3, 0, 3, 2,\n",
              "       3, 3, 4, 3, 3, 3, 4, 3, 4, 1, 2, 4, 4, 4, 2, 2, 4, 4, 3, 4, 3, 0,\n",
              "       2, 3, 3, 2, 0, 2, 1, 0, 0, 0, 2, 0, 3, 1, 1, 1, 0, 4, 0, 0, 1, 1,\n",
              "       2, 0, 1, 3, 3, 1, 0, 1, 4, 1, 1, 3, 0, 0, 4, 1, 1, 2, 4, 2, 3, 2,\n",
              "       4, 2, 2, 4, 4, 3, 1, 3, 2, 2, 2, 1, 4, 4, 2, 4, 0, 1, 3, 4, 1, 4,\n",
              "       0, 2, 1, 0, 1, 2, 4, 4, 0, 1, 1, 4, 2, 0, 4, 0, 2, 3, 1, 3, 1, 0,\n",
              "       3, 2])"
            ]
          },
          "metadata": {},
          "execution_count": 18
        }
      ]
    },
    {
      "cell_type": "code",
      "source": [
        "standard_skala = StandardScaler()\n",
        "skala_fitur = standard_skala.fit_transform(features)"
      ],
      "metadata": {
        "id": "Ba7yL3n4ovUY"
      },
      "execution_count": 19,
      "outputs": []
    },
    {
      "cell_type": "code",
      "source": [
        "skala_fitur[:10]"
      ],
      "metadata": {
        "colab": {
          "base_uri": "https://localhost:8080/"
        },
        "id": "OjhNiHrXozbB",
        "outputId": "c69488ce-a0dc-4b73-ed6c-843ffcbde02c"
      },
      "execution_count": 20,
      "outputs": [
        {
          "output_type": "execute_result",
          "data": {
            "text/plain": [
              "array([[ 0.66856522, -1.7848672 ],\n",
              "       [ 1.81302733, -0.4938481 ],\n",
              "       [-1.51897184,  0.17662278],\n",
              "       [-1.11366669,  1.2624759 ],\n",
              "       [-1.46596803,  1.77247339],\n",
              "       [ 1.28071558, -0.93760074],\n",
              "       [-1.80386137,  1.45448261],\n",
              "       [-0.28914223,  0.52514076],\n",
              "       [ 0.22046251,  0.26306281],\n",
              "       [-1.17984265,  1.89960825]])"
            ]
          },
          "metadata": {},
          "execution_count": 20
        }
      ]
    },
    {
      "cell_type": "code",
      "source": [
        "metode_kmeans = KMeans(\n",
        "    init=\"random\", \n",
        "    n_clusters=9, \n",
        "    n_init=10, \n",
        "    max_iter=100, \n",
        "    random_state=42\n",
        "    )"
      ],
      "metadata": {
        "id": "hFxAvkXHo2d7"
      },
      "execution_count": 21,
      "outputs": []
    },
    {
      "cell_type": "code",
      "source": [
        "metode_kmeans.fit(skala_fitur)"
      ],
      "metadata": {
        "colab": {
          "base_uri": "https://localhost:8080/",
          "height": 75
        },
        "id": "ef26VLKfo59Y",
        "outputId": "b63e4841-eb61-4ae9-e942-8da9522d7c39"
      },
      "execution_count": 22,
      "outputs": [
        {
          "output_type": "execute_result",
          "data": {
            "text/plain": [
              "KMeans(init='random', max_iter=100, n_clusters=9, n_init=10, random_state=42)"
            ],
            "text/html": [
              "<style>#sk-container-id-2 {color: black;background-color: white;}#sk-container-id-2 pre{padding: 0;}#sk-container-id-2 div.sk-toggleable {background-color: white;}#sk-container-id-2 label.sk-toggleable__label {cursor: pointer;display: block;width: 100%;margin-bottom: 0;padding: 0.3em;box-sizing: border-box;text-align: center;}#sk-container-id-2 label.sk-toggleable__label-arrow:before {content: \"▸\";float: left;margin-right: 0.25em;color: #696969;}#sk-container-id-2 label.sk-toggleable__label-arrow:hover:before {color: black;}#sk-container-id-2 div.sk-estimator:hover label.sk-toggleable__label-arrow:before {color: black;}#sk-container-id-2 div.sk-toggleable__content {max-height: 0;max-width: 0;overflow: hidden;text-align: left;background-color: #f0f8ff;}#sk-container-id-2 div.sk-toggleable__content pre {margin: 0.2em;color: black;border-radius: 0.25em;background-color: #f0f8ff;}#sk-container-id-2 input.sk-toggleable__control:checked~div.sk-toggleable__content {max-height: 200px;max-width: 100%;overflow: auto;}#sk-container-id-2 input.sk-toggleable__control:checked~label.sk-toggleable__label-arrow:before {content: \"▾\";}#sk-container-id-2 div.sk-estimator input.sk-toggleable__control:checked~label.sk-toggleable__label {background-color: #d4ebff;}#sk-container-id-2 div.sk-label input.sk-toggleable__control:checked~label.sk-toggleable__label {background-color: #d4ebff;}#sk-container-id-2 input.sk-hidden--visually {border: 0;clip: rect(1px 1px 1px 1px);clip: rect(1px, 1px, 1px, 1px);height: 1px;margin: -1px;overflow: hidden;padding: 0;position: absolute;width: 1px;}#sk-container-id-2 div.sk-estimator {font-family: monospace;background-color: #f0f8ff;border: 1px dotted black;border-radius: 0.25em;box-sizing: border-box;margin-bottom: 0.5em;}#sk-container-id-2 div.sk-estimator:hover {background-color: #d4ebff;}#sk-container-id-2 div.sk-parallel-item::after {content: \"\";width: 100%;border-bottom: 1px solid gray;flex-grow: 1;}#sk-container-id-2 div.sk-label:hover label.sk-toggleable__label {background-color: #d4ebff;}#sk-container-id-2 div.sk-serial::before {content: \"\";position: absolute;border-left: 1px solid gray;box-sizing: border-box;top: 0;bottom: 0;left: 50%;z-index: 0;}#sk-container-id-2 div.sk-serial {display: flex;flex-direction: column;align-items: center;background-color: white;padding-right: 0.2em;padding-left: 0.2em;position: relative;}#sk-container-id-2 div.sk-item {position: relative;z-index: 1;}#sk-container-id-2 div.sk-parallel {display: flex;align-items: stretch;justify-content: center;background-color: white;position: relative;}#sk-container-id-2 div.sk-item::before, #sk-container-id-2 div.sk-parallel-item::before {content: \"\";position: absolute;border-left: 1px solid gray;box-sizing: border-box;top: 0;bottom: 0;left: 50%;z-index: -1;}#sk-container-id-2 div.sk-parallel-item {display: flex;flex-direction: column;z-index: 1;position: relative;background-color: white;}#sk-container-id-2 div.sk-parallel-item:first-child::after {align-self: flex-end;width: 50%;}#sk-container-id-2 div.sk-parallel-item:last-child::after {align-self: flex-start;width: 50%;}#sk-container-id-2 div.sk-parallel-item:only-child::after {width: 0;}#sk-container-id-2 div.sk-dashed-wrapped {border: 1px dashed gray;margin: 0 0.4em 0.5em 0.4em;box-sizing: border-box;padding-bottom: 0.4em;background-color: white;}#sk-container-id-2 div.sk-label label {font-family: monospace;font-weight: bold;display: inline-block;line-height: 1.2em;}#sk-container-id-2 div.sk-label-container {text-align: center;}#sk-container-id-2 div.sk-container {/* jupyter's `normalize.less` sets `[hidden] { display: none; }` but bootstrap.min.css set `[hidden] { display: none !important; }` so we also need the `!important` here to be able to override the default hidden behavior on the sphinx rendered scikit-learn.org. See: https://github.com/scikit-learn/scikit-learn/issues/21755 */display: inline-block !important;position: relative;}#sk-container-id-2 div.sk-text-repr-fallback {display: none;}</style><div id=\"sk-container-id-2\" class=\"sk-top-container\"><div class=\"sk-text-repr-fallback\"><pre>KMeans(init=&#x27;random&#x27;, max_iter=100, n_clusters=9, n_init=10, random_state=42)</pre><b>In a Jupyter environment, please rerun this cell to show the HTML representation or trust the notebook. <br />On GitHub, the HTML representation is unable to render, please try loading this page with nbviewer.org.</b></div><div class=\"sk-container\" hidden><div class=\"sk-item\"><div class=\"sk-estimator sk-toggleable\"><input class=\"sk-toggleable__control sk-hidden--visually\" id=\"sk-estimator-id-2\" type=\"checkbox\" checked><label for=\"sk-estimator-id-2\" class=\"sk-toggleable__label sk-toggleable__label-arrow\">KMeans</label><div class=\"sk-toggleable__content\"><pre>KMeans(init=&#x27;random&#x27;, max_iter=100, n_clusters=9, n_init=10, random_state=42)</pre></div></div></div></div></div>"
            ]
          },
          "metadata": {},
          "execution_count": 22
        }
      ]
    },
    {
      "cell_type": "code",
      "source": [
        "metode_kmeans.inertia_"
      ],
      "metadata": {
        "colab": {
          "base_uri": "https://localhost:8080/"
        },
        "id": "z37JGYQlo_lt",
        "outputId": "96587b03-2cbe-4b08-a6b2-777d88623e46"
      },
      "execution_count": 23,
      "outputs": [
        {
          "output_type": "execute_result",
          "data": {
            "text/plain": [
              "68.34662451776117"
            ]
          },
          "metadata": {},
          "execution_count": 23
        }
      ]
    },
    {
      "cell_type": "code",
      "source": [
        "metode_kmeans.cluster_centers_"
      ],
      "metadata": {
        "colab": {
          "base_uri": "https://localhost:8080/"
        },
        "id": "2AUmBzbFpAiW",
        "outputId": "9522f904-e19a-44e5-f173-d88fdd6321c0"
      },
      "execution_count": 24,
      "outputs": [
        {
          "output_type": "execute_result",
          "data": {
            "text/plain": [
              "array([[-1.3981247 ,  1.26775634],\n",
              "       [ 1.07960029,  0.31871679],\n",
              "       [ 0.14802026, -0.5950441 ],\n",
              "       [-0.95783664,  1.96472182],\n",
              "       [ 1.33708895, -0.60181737],\n",
              "       [-0.86626312,  0.08962567],\n",
              "       [ 0.20700224,  0.29883797],\n",
              "       [ 1.14805351, -1.49740088],\n",
              "       [-0.46023204, -1.23544617]])"
            ]
          },
          "metadata": {},
          "execution_count": 24
        }
      ]
    },
    {
      "cell_type": "code",
      "source": [
        "metode_kmeans.n_iter_"
      ],
      "metadata": {
        "colab": {
          "base_uri": "https://localhost:8080/"
        },
        "id": "HOfajIGhpESn",
        "outputId": "5968cbf2-c132-4b48-eb3a-e394ff559780"
      },
      "execution_count": 25,
      "outputs": [
        {
          "output_type": "execute_result",
          "data": {
            "text/plain": [
              "15"
            ]
          },
          "metadata": {},
          "execution_count": 25
        }
      ]
    },
    {
      "cell_type": "code",
      "source": [
        "metode_kmeans.labels_"
      ],
      "metadata": {
        "colab": {
          "base_uri": "https://localhost:8080/"
        },
        "id": "Wrl7PhzEpHgi",
        "outputId": "b0b94529-4787-4b3d-de46-823fd670333d"
      },
      "execution_count": 26,
      "outputs": [
        {
          "output_type": "execute_result",
          "data": {
            "text/plain": [
              "array([7, 4, 5, 0, 0, 4, 0, 6, 6, 3, 5, 2, 4, 6, 4, 6, 0, 1, 7, 2, 7, 2,\n",
              "       0, 2, 6, 0, 0, 4, 2, 4, 6, 5, 2, 4, 3, 5, 5, 2, 5, 0, 7, 2, 3, 1,\n",
              "       2, 7, 0, 3, 2, 1, 5, 6, 0, 4, 1, 7, 5, 5, 2, 2, 8, 1, 4, 4, 5, 0,\n",
              "       3, 2, 0, 3, 3, 4, 3, 4, 5, 0, 6, 5, 5, 5, 5, 7, 2, 4, 0, 5, 0, 1,\n",
              "       3, 0, 1, 3, 3, 3, 1, 3, 4, 5, 4, 2, 2, 6, 7, 4, 6, 6, 0, 2, 0, 8,\n",
              "       7, 0, 5, 2, 2, 7, 5, 6, 5, 2, 4, 5, 3, 2, 2, 5, 5, 6, 2, 5, 2, 2,\n",
              "       7, 6, 2, 0, 3, 2, 6, 8, 1, 5, 2, 0, 2, 5, 7, 2, 2, 7, 6, 4, 0, 4,\n",
              "       6, 4, 1, 1, 1, 0, 5, 0, 4, 4, 7, 8, 1, 6, 7, 1, 8, 5, 3, 1, 7, 6,\n",
              "       8, 4, 2, 1, 8, 2, 1, 6, 6, 2, 2, 4, 4, 5, 4, 5, 2, 3, 8, 0, 2, 5,\n",
              "       0, 7, 3, 8, 1, 6, 6, 3, 2, 0, 8, 1, 4, 2, 3, 8, 0, 2, 0, 8, 2, 0,\n",
              "       0, 3, 8, 2, 6, 7, 1, 0, 5, 7, 4, 5, 5, 4, 1, 0, 3, 6, 1, 5, 2, 4,\n",
              "       4, 5, 7, 2, 2, 2, 0, 0, 4, 4, 0, 0, 2, 7, 2, 1, 8, 3, 3, 6, 5, 6,\n",
              "       8, 1, 8, 6, 5, 2, 5, 4, 0, 6, 7, 4, 8, 5, 2, 0, 5, 1, 7, 1, 7, 8,\n",
              "       4, 5, 1, 5, 2, 8, 7, 6, 4, 5, 7, 6, 2, 4, 0, 3, 2, 4, 0, 4, 2, 2,\n",
              "       5, 4, 2, 6, 2, 2, 2, 5, 5, 4, 6, 6, 8, 6, 1, 0, 5, 2, 8, 1, 5, 4],\n",
              "      dtype=int32)"
            ]
          },
          "metadata": {},
          "execution_count": 26
        }
      ]
    },
    {
      "cell_type": "code",
      "source": [
        "import numpy as np\n",
        "import matplotlib.pyplot as plt\n",
        "import pandas as pd"
      ],
      "metadata": {
        "id": "n-SouL4NpMDS"
      },
      "execution_count": 27,
      "outputs": []
    },
    {
      "cell_type": "code",
      "source": [
        "color = np.array([\"Red\",\"Green\",\"Blue\",\"yellow\",\"black\",\"white\",\"brown\",\"pink\",\"purple\"])\n",
        "plt.subplot(1,2,2)\n",
        "plt.scatter(skala_fitur[:,0], skala_fitur[:,1], s=50, alpha=1, cmap='viridis', c=color[metode_kmeans.labels_])"
      ],
      "metadata": {
        "colab": {
          "base_uri": "https://localhost:8080/",
          "height": 486
        },
        "id": "iFb7U-IhpPhy",
        "outputId": "9641be36-98a2-47e1-9cfa-8d3b08c6e9e1"
      },
      "execution_count": 28,
      "outputs": [
        {
          "output_type": "stream",
          "name": "stderr",
          "text": [
            "<ipython-input-28-4be062c28ced>:3: UserWarning: No data for colormapping provided via 'c'. Parameters 'cmap' will be ignored\n",
            "  plt.scatter(skala_fitur[:,0], skala_fitur[:,1], s=50, alpha=1, cmap='viridis', c=color[metode_kmeans.labels_])\n"
          ]
        },
        {
          "output_type": "execute_result",
          "data": {
            "text/plain": [
              "<matplotlib.collections.PathCollection at 0x7f1c7d4ce590>"
            ]
          },
          "metadata": {},
          "execution_count": 28
        },
        {
          "output_type": "display_data",
          "data": {
            "text/plain": [
              "<Figure size 640x480 with 1 Axes>"
            ],
            "image/png": "[encoded data removed]"
          },
          "metadata": {}
        }
      ]
    },
    {
      "cell_type": "code",
      "source": [],
      "metadata": {
        "id": "W7m1bxZzpSjo"
      },
      "execution_count": null,
      "outputs": []
    }
  ]
}